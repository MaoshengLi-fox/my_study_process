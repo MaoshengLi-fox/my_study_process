{
 "cells": [
  {
   "cell_type": "markdown",
   "id": "55c68271",
   "metadata": {},
   "source": [
    "#### Gaussian Elimination\n",
    "1.elimination with partial pivoting </br>\n",
    "2.Back substitution with $A[i,i]⋅x_i+\\sum_{j=i+1}^{n} A[i,j]⋅x_j=b[i]​$"
   ]
  },
  {
   "cell_type": "code",
   "execution_count": 1,
   "id": "dcb44934",
   "metadata": {},
   "outputs": [],
   "source": [
    "import numpy as np\n",
    "\n",
    "def gauss_elim(A, b):\n",
    "    A = np.array(A, dtype=float).copy()\n",
    "    b = np.array(b, dtype=float).copy()\n",
    "    n = A.shape[0]\n",
    "\n",
    "    # elimination with partial pivoting\n",
    "    for k in range(n - 1):\n",
    "        # choose pivot row\n",
    "        pivot = k + np.argmax(np.abs(A[k:, k]))\n",
    "        if A[pivot, k] == 0:\n",
    "            raise ValueError(\"Matrix is singular. R(A) < n / det(A) = 0 ====> singular matrix\")\n",
    "\n",
    "        # swapping rows aim to put pivot on diagonal\n",
    "        if pivot != k:\n",
    "            A[[k, pivot]] = A[[pivot, k]]\n",
    "            b[[k, pivot]] = b[[pivot, k]]\n",
    "\n",
    "        # elimination\n",
    "        for i in range(k + 1, n):\n",
    "            m = A[i, k] / A[k, k]\n",
    "            A[i, k:] -= m * A[k, k:]\n",
    "            b[i]     -= m * b[k]\n",
    "\n",
    "    # --- Back substitution ---\n",
    "    x = np.zeros(n)\n",
    "    for i in range(n - 1, -1, -1):\n",
    "        if A[i, i] == 0:\n",
    "            raise ValueError(\"Matrix is singular.\")\n",
    "        x[i] = (b[i] - np.dot(A[i, i+1:], x[i+1:])) / A[i, i]\n",
    "\n",
    "    return x"
   ]
  },
  {
   "cell_type": "code",
   "execution_count": 2,
   "id": "b56c77b2",
   "metadata": {},
   "outputs": [
    {
     "name": "stdout",
     "output_type": "stream",
     "text": [
      "gauss_elim: [1. 2. 3.]\n",
      "numpy.linalg.solve: [1. 2. 3.]\n"
     ]
    }
   ],
   "source": [
    "A = np.array([[2, -1, 1],\n",
    "              [1,  3, 2],\n",
    "              [1, -1, 2]], dtype=float)\n",
    "b = np.array([3, 13, 5], dtype=float)\n",
    "\n",
    "x = gauss_elim(A, b)\n",
    "print(\"gauss_elim:\", x)\n",
    "print(\"numpy.linalg.solve:\", np.linalg.solve(A, b))"
   ]
  }
 ],
 "metadata": {
  "kernelspec": {
   "display_name": "template_py310",
   "language": "python",
   "name": "python3"
  },
  "language_info": {
   "codemirror_mode": {
    "name": "ipython",
    "version": 3
   },
   "file_extension": ".py",
   "mimetype": "text/x-python",
   "name": "python",
   "nbconvert_exporter": "python",
   "pygments_lexer": "ipython3",
   "version": "3.10.18"
  }
 },
 "nbformat": 4,
 "nbformat_minor": 5
}
